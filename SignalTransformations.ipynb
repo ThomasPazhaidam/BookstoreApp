{
  "nbformat": 4,
  "nbformat_minor": 0,
  "metadata": {
    "colab": {
      "name": "ELE632_Thomas_Pazhaidam_Lab1_Section10.ipynb",
      "provenance": [],
      "collapsed_sections": [
        "NlhSWdUPN1C8",
        "qj9dWg7lqk4A",
        "YFdhO2LZDTP5"
      ],
      "toc_visible": true,
      "authorship_tag": "ABX9TyNyb+dYMy+LqC6RZhKVxax3",
      "include_colab_link": true
    },
    "kernelspec": {
      "name": "python3",
      "display_name": "Python 3"
    },
    "language_info": {
      "name": "python"
    }
  },
  "cells": [
    {
      "cell_type": "markdown",
      "metadata": {
        "id": "view-in-github",
        "colab_type": "text"
      },
      "source": [
        "<a href=\"https://colab.research.google.com/github/ThomasPazhaidam/BookstoreApp/blob/main/SignalTransformations.ipynb\" target=\"_parent\"><img src=\"https://colab.research.google.com/assets/colab-badge.svg\" alt=\"Open In Colab\"/></a>"
      ]
    },
    {
      "cell_type": "markdown",
      "source": [
        "## Assignment 1, Thomas Pazhaidam, 500952854, Section 10"
      ],
      "metadata": {
        "id": "6l0kFyzdNZMK"
      }
    },
    {
      "cell_type": "markdown",
      "source": [
        "#Part A: Signal Transformation\n"
      ],
      "metadata": {
        "id": "NlhSWdUPN1C8"
      }
    },
    {
      "cell_type": "markdown",
      "source": [
        "1)i)"
      ],
      "metadata": {
        "id": "JAs6Zy7xN1xZ"
      }
    },
    {
      "cell_type": "code",
      "execution_count": null,
      "metadata": {
        "colab": {
          "base_uri": "https://localhost:8080/",
          "height": 367
        },
        "id": "6AwtWtzFxXbz",
        "outputId": "4576734f-e8b0-4c32-f138-236f16ff059f"
      },
      "outputs": [
        {
          "output_type": "stream",
          "name": "stderr",
          "text": [
            "/usr/local/lib/python3.7/dist-packages/ipykernel_launcher.py:15: UserWarning: In Matplotlib 3.3 individual lines on a stem plot will be added as a LineCollection instead of individual lines. This significantly improves the performance of a stem plot. To remove this warning and switch to the new behaviour, set the \"use_line_collection\" keyword argument to True.\n",
            "  from ipykernel import kernelapp as app\n"
          ]
        },
        {
          "output_type": "execute_result",
          "data": {
            "text/plain": [
              "Text(0.5, 1.0, 'Unit Impulse d[n-3]')"
            ]
          },
          "metadata": {},
          "execution_count": 196
        },
        {
          "output_type": "display_data",
          "data": {
            "image/png": "[encoded data removed]",
            "text/plain": [
              "<Figure size 432x288 with 1 Axes>"
            ]
          },
          "metadata": {
            "needs_background": "light"
          }
        }
      ],
      "source": [
        "import numpy as np\n",
        "import matplotlib.pyplot as plt\n",
        "\n",
        "def impulse(a, n):\n",
        "    delta =[]\n",
        "    for f in n:\n",
        "        if f == a:\n",
        "            delta.append(1)\n",
        "        else:\n",
        "            delta.append(0)             \n",
        "    return delta\n",
        "a = 3\n",
        "n=np.arange(-10,10,1)\n",
        "d = impulse(a, n)\n",
        "plt.stem(n, d)\n",
        "plt.xlabel('n')\n",
        "plt.xticks(np.arange(-10, 10, 1))\n",
        "plt.yticks([0, 1])\n",
        "plt.ylabel('d[n-3]')\n",
        "plt.title('Unit Impulse d[n-3]')"
      ]
    },
    {
      "cell_type": "markdown",
      "source": [
        "1)ii)"
      ],
      "metadata": {
        "id": "KJQ3k0giN8R_"
      }
    },
    {
      "cell_type": "code",
      "source": [
        "def ustep(a, n):\n",
        "    unit =[]\n",
        "    for f in n:\n",
        "        if f<a:\n",
        "            unit.append(0)\n",
        "        else:\n",
        "            unit.append(1)\n",
        "    return(unit)\n",
        "\n",
        "a=-1;\n",
        "n = np.arange(-10, 10, 1)\n",
        "unit = ustep(a, n)\n",
        "plt.stem(n, unit)\n",
        "plt.xlabel('n')\n",
        "plt.xticks(np.arange(-10, 10, 1))\n",
        "plt.yticks([0, 1])\n",
        "plt.ylabel('u[n+1]')\n",
        "plt.title('Unit step u[n+1]')"
      ],
      "metadata": {
        "colab": {
          "base_uri": "https://localhost:8080/",
          "height": 367
        },
        "id": "EqT_DVfFFVHY",
        "outputId": "270bf04f-7ba1-4744-dfe7-56b1bb48b1a5"
      },
      "execution_count": null,
      "outputs": [
        {
          "output_type": "stream",
          "name": "stderr",
          "text": [
            "/usr/local/lib/python3.7/dist-packages/ipykernel_launcher.py:13: UserWarning: In Matplotlib 3.3 individual lines on a stem plot will be added as a LineCollection instead of individual lines. This significantly improves the performance of a stem plot. To remove this warning and switch to the new behaviour, set the \"use_line_collection\" keyword argument to True.\n",
            "  del sys.path[0]\n"
          ]
        },
        {
          "output_type": "execute_result",
          "data": {
            "text/plain": [
              "Text(0.5, 1.0, 'Unit step u[n+1]')"
            ]
          },
          "metadata": {},
          "execution_count": 197
        },
        {
          "output_type": "display_data",
          "data": {
            "image/png": "[encoded data removed]",
            "text/plain": [
              "<Figure size 432x288 with 1 Axes>"
            ]
          },
          "metadata": {
            "needs_background": "light"
          }
        }
      ]
    },
    {
      "cell_type": "markdown",
      "source": [
        "1)iii)"
      ],
      "metadata": {
        "id": "OzJOxTesOJiv"
      }
    },
    {
      "cell_type": "code",
      "source": [
        "a=0;\n",
        "n = np.arange(-10, 10, 1)\n",
        "unit = ustep(a, n)\n",
        "\n",
        "y=np.cos(0.2*np.pi*n)*unit\n",
        "plt.stem(n,y)\n",
        "plt.xlabel('n')\n",
        "plt.xticks(np.arange(-10,10,1))\n",
        "plt.yticks([0,1])\n",
        "plt.ylabel('cos(0.2*pi*n)*u[n]')\n",
        "plt.title('Cosine in Discrete Time')"
      ],
      "metadata": {
        "colab": {
          "base_uri": "https://localhost:8080/",
          "height": 367
        },
        "id": "MQj5Q_qiGq6x",
        "outputId": "6d4fe5df-f564-4913-e4b9-0822505f93f3"
      },
      "execution_count": null,
      "outputs": [
        {
          "output_type": "stream",
          "name": "stderr",
          "text": [
            "/usr/local/lib/python3.7/dist-packages/ipykernel_launcher.py:6: UserWarning: In Matplotlib 3.3 individual lines on a stem plot will be added as a LineCollection instead of individual lines. This significantly improves the performance of a stem plot. To remove this warning and switch to the new behaviour, set the \"use_line_collection\" keyword argument to True.\n",
            "  \n"
          ]
        },
        {
          "output_type": "execute_result",
          "data": {
            "text/plain": [
              "Text(0.5, 1.0, 'Cosine in Discrete Time')"
            ]
          },
          "metadata": {},
          "execution_count": 198
        },
        {
          "output_type": "display_data",
          "data": {
            "image/png": "[encoded data removed]",
            "text/plain": [
              "<Figure size 432x288 with 1 Axes>"
            ]
          },
          "metadata": {
            "needs_background": "light"
          }
        }
      ]
    },
    {
      "cell_type": "markdown",
      "source": [
        "1)iv) Shift to the right by 3"
      ],
      "metadata": {
        "id": "yZSj3rIgOLvg"
      }
    },
    {
      "cell_type": "code",
      "source": [
        "a=3;\n",
        "n = np.arange(-10, 10, 1)\n",
        "unit = ustep(a, n)\n",
        "\n",
        "y=np.cos(0.2*np.pi*(n-3))*unit\n",
        "plt.stem(n,y)\n",
        "plt.xlabel('n')\n",
        "plt.xticks(np.arange(0,10,1))\n",
        "plt.yticks([0,1])\n",
        "plt.ylabel('cos(0.2*pi*(n-3)*u[n-3]')\n",
        "plt.title('Cosine in Discrete Time, with Shift')"
      ],
      "metadata": {
        "colab": {
          "base_uri": "https://localhost:8080/",
          "height": 367
        },
        "id": "RlMhQpM9JvsX",
        "outputId": "394f1f0a-530b-44a3-bb0a-6a0a595b98c1"
      },
      "execution_count": null,
      "outputs": [
        {
          "output_type": "stream",
          "name": "stderr",
          "text": [
            "/usr/local/lib/python3.7/dist-packages/ipykernel_launcher.py:6: UserWarning: In Matplotlib 3.3 individual lines on a stem plot will be added as a LineCollection instead of individual lines. This significantly improves the performance of a stem plot. To remove this warning and switch to the new behaviour, set the \"use_line_collection\" keyword argument to True.\n",
            "  \n"
          ]
        },
        {
          "output_type": "execute_result",
          "data": {
            "text/plain": [
              "Text(0.5, 1.0, 'Cosine in Discrete Time, with Shift')"
            ]
          },
          "metadata": {},
          "execution_count": 199
        },
        {
          "output_type": "display_data",
          "data": {
            "image/png": "[encoded data removed]",
            "text/plain": [
              "<Figure size 432x288 with 1 Axes>"
            ]
          },
          "metadata": {
            "needs_background": "light"
          }
        }
      ]
    },
    {
      "cell_type": "markdown",
      "source": [
        "1)v) Time Reversal is applied on signal"
      ],
      "metadata": {
        "id": "nwZcqwLyOT3Y"
      }
    },
    {
      "cell_type": "code",
      "source": [
        "a=0;\n",
        "n = np.arange(-10, 10, 1)\n",
        "unit = ustep(a, -n)\n",
        "\n",
        "y=np.cos(0.2*np.pi*(-n))*unit\n",
        "plt.stem(n,y)\n",
        "plt.xlabel('n')\n",
        "plt.xticks(np.arange(0,10,1))\n",
        "plt.yticks([0,1])\n",
        "plt.ylabel('cos(0.2*pi*(-n)*u[-n]')\n",
        "plt.title('Cosine in Discrete Time, with Reversal')"
      ],
      "metadata": {
        "colab": {
          "base_uri": "https://localhost:8080/",
          "height": 367
        },
        "id": "7LxqBbKNMrsr",
        "outputId": "2b0f2b93-cc1c-4294-f715-b41b91fda9c5"
      },
      "execution_count": null,
      "outputs": [
        {
          "output_type": "stream",
          "name": "stderr",
          "text": [
            "/usr/local/lib/python3.7/dist-packages/ipykernel_launcher.py:6: UserWarning: In Matplotlib 3.3 individual lines on a stem plot will be added as a LineCollection instead of individual lines. This significantly improves the performance of a stem plot. To remove this warning and switch to the new behaviour, set the \"use_line_collection\" keyword argument to True.\n",
            "  \n"
          ]
        },
        {
          "output_type": "execute_result",
          "data": {
            "text/plain": [
              "Text(0.5, 1.0, 'Cosine in Discrete Time, with Reversal')"
            ]
          },
          "metadata": {},
          "execution_count": 200
        },
        {
          "output_type": "display_data",
          "data": {
            "image/png": "[encoded data removed]",
            "text/plain": [
              "<Figure size 432x288 with 1 Axes>"
            ]
          },
          "metadata": {
            "needs_background": "light"
          }
        }
      ]
    },
    {
      "cell_type": "markdown",
      "source": [
        "2)i)"
      ],
      "metadata": {
        "id": "ZH1CDP0jO1Qr"
      }
    },
    {
      "cell_type": "code",
      "source": [
        "def exp(a, n):\n",
        "    exp =[]\n",
        "    for sample in n:\n",
        "        exp.append(np.exp(a * sample))\n",
        "    return (exp)\n",
        "\n",
        "n = np.arange(-10, 70, 1)\n",
        "unit1=ustep(0,n)\n",
        "unit2=ustep(10,n)\n",
        "z=exp(0.125,-n)\n",
        "z2=np.dot(5,z)\n",
        "\n",
        "y1=np.multiply(z2,unit1)\n",
        "y2=np.multiply(z2,unit2)\n",
        "y3=y1-y2\n",
        "\n",
        "plt.stem(n,y3)\n",
        "plt.xlabel('n')\n",
        "plt.xticks(np.arange(-10,70,5))\n",
        "plt.yticks([0,5])\n",
        "plt.ylabel('y[n]')\n",
        "plt.title('5*exp(-0.125*n)*(u[n]-u[n-10]) plot')"
      ],
      "metadata": {
        "colab": {
          "base_uri": "https://localhost:8080/",
          "height": 350
        },
        "id": "OMw0H4JlS3aH",
        "outputId": "09f1cec0-bb6a-4578-b9a3-ee083ddebd9a"
      },
      "execution_count": null,
      "outputs": [
        {
          "output_type": "stream",
          "name": "stderr",
          "text": [
            "/usr/local/lib/python3.7/dist-packages/ipykernel_launcher.py:17: UserWarning: In Matplotlib 3.3 individual lines on a stem plot will be added as a LineCollection instead of individual lines. This significantly improves the performance of a stem plot. To remove this warning and switch to the new behaviour, set the \"use_line_collection\" keyword argument to True.\n"
          ]
        },
        {
          "output_type": "execute_result",
          "data": {
            "text/plain": [
              "Text(0.5, 1.0, '5*exp(-0.125*n)*(u[n]-u[n-10]) plot')"
            ]
          },
          "metadata": {},
          "execution_count": 201
        },
        {
          "output_type": "display_data",
          "data": {
            "image/png": "[encoded data removed]",
            "text/plain": [
              "<Figure size 432x288 with 1 Axes>"
            ]
          },
          "metadata": {
            "needs_background": "light"
          }
        }
      ]
    },
    {
      "cell_type": "markdown",
      "source": [
        "2)ii) A compression is being made by a factor of 3"
      ],
      "metadata": {
        "id": "UUGqWWt3j0FO"
      }
    },
    {
      "cell_type": "code",
      "source": [
        "n = np.arange(-10, 70, 1)\n",
        "unit1=ustep(0,3*n)\n",
        "unit2=ustep(10,3*n)\n",
        "z=exp(0.125,-3*n)\n",
        "z2=np.dot(5,z)\n",
        "\n",
        "y1=np.multiply(z2,unit1)\n",
        "y2=np.multiply(z2,unit2)\n",
        "y3=y1-y2\n",
        "\n",
        "plt.stem(n,y3)\n",
        "plt.xlabel('n')\n",
        "plt.xticks(np.arange(-10,70,5))\n",
        "plt.yticks([0,5])\n",
        "plt.ylabel('y1[n]')\n",
        "plt.title('5*exp(-0.125*3*n)*(u[3*n]-u[3*n-10]) plot')"
      ],
      "metadata": {
        "colab": {
          "base_uri": "https://localhost:8080/",
          "height": 367
        },
        "id": "lqgIWWgklz95",
        "outputId": "a6d289c3-777c-4d77-8d5c-f14f259da7c7"
      },
      "execution_count": null,
      "outputs": [
        {
          "output_type": "stream",
          "name": "stderr",
          "text": [
            "/usr/local/lib/python3.7/dist-packages/ipykernel_launcher.py:11: UserWarning: In Matplotlib 3.3 individual lines on a stem plot will be added as a LineCollection instead of individual lines. This significantly improves the performance of a stem plot. To remove this warning and switch to the new behaviour, set the \"use_line_collection\" keyword argument to True.\n",
            "  # This is added back by InteractiveShellApp.init_path()\n"
          ]
        },
        {
          "output_type": "execute_result",
          "data": {
            "text/plain": [
              "Text(0.5, 1.0, '5*exp(-0.125*3*n)*(u[3*n]-u[3*n-10]) plot')"
            ]
          },
          "metadata": {},
          "execution_count": 202
        },
        {
          "output_type": "display_data",
          "data": {
            "image/png": "[encoded data removed]",
            "text/plain": [
              "<Figure size 432x288 with 1 Axes>"
            ]
          },
          "metadata": {
            "needs_background": "light"
          }
        }
      ]
    },
    {
      "cell_type": "markdown",
      "source": [
        "2)iii) A stretch is made by a factor of 3"
      ],
      "metadata": {
        "id": "Eoyof8wLoLGR"
      }
    },
    {
      "cell_type": "code",
      "source": [
        "n = np.arange(-10, 70, 1)\n",
        "unit1=ustep(0,n/3)\n",
        "unit2=ustep(10,n/3)\n",
        "z=exp(0.125,-n/3)\n",
        "z2=np.dot(5,z)\n",
        "\n",
        "y1=np.multiply(z2,unit1)\n",
        "y2=np.multiply(z2,unit2)\n",
        "y3=y1-y2\n",
        "\n",
        "y3filt=[]\n",
        "nfilt=[]\n",
        "for n1 in n:\n",
        "  if n1%3==0:\n",
        "    nfilt.append(n1)\n",
        "\n",
        "for i in range(0,len(y3)):\n",
        "  if i%3==1:\n",
        "    y3filt.append(y3[i])\n",
        "\n",
        "plt.stem(nfilt,y3filt)\n",
        "\n",
        "plt.xlabel('n')\n",
        "plt.xticks(np.arange(-10,70,5))\n",
        "plt.yticks([0,5])\n",
        "plt.ylabel('y2[n]')\n",
        "plt.title('5*exp(-0.125*(n/3))*(u[n/3]-u[(n/3)-10]) plot')"
      ],
      "metadata": {
        "colab": {
          "base_uri": "https://localhost:8080/",
          "height": 350
        },
        "id": "p4Xow_XnoU7G",
        "outputId": "19c443a8-0178-4c78-bfcc-35d53e820c4b"
      },
      "execution_count": null,
      "outputs": [
        {
          "output_type": "stream",
          "name": "stderr",
          "text": [
            "/usr/local/lib/python3.7/dist-packages/ipykernel_launcher.py:21: UserWarning: In Matplotlib 3.3 individual lines on a stem plot will be added as a LineCollection instead of individual lines. This significantly improves the performance of a stem plot. To remove this warning and switch to the new behaviour, set the \"use_line_collection\" keyword argument to True.\n"
          ]
        },
        {
          "output_type": "execute_result",
          "data": {
            "text/plain": [
              "Text(0.5, 1.0, '5*exp(-0.125*(n/3))*(u[n/3]-u[(n/3)-10]) plot')"
            ]
          },
          "metadata": {},
          "execution_count": 203
        },
        {
          "output_type": "display_data",
          "data": {
            "image/png": "[encoded data removed]",
            "text/plain": [
              "<Figure size 432x288 with 1 Axes>"
            ]
          },
          "metadata": {
            "needs_background": "light"
          }
        }
      ]
    },
    {
      "cell_type": "markdown",
      "source": [
        "3)i)"
      ],
      "metadata": {
        "id": "6-a7_lwAqh7N"
      }
    },
    {
      "cell_type": "code",
      "source": [
        "x=np.arange(-10,70,0.1)\n",
        "unit1=ustep(0,x/3)\n",
        "unit2=ustep(10,x/3)\n",
        "z=exp(0.125,-x/3)\n",
        "z2=np.dot(5,z)\n",
        "\n",
        "y1=np.multiply(z2,unit1)\n",
        "y2=np.multiply(z2,unit2)\n",
        "y3=y1-y2\n",
        "\n",
        "plt.plot(x,y3)\n",
        "plt.xlabel('x')\n",
        "plt.xticks(np.arange(-10,70,5))\n",
        "plt.yticks([0,5])\n",
        "plt.ylabel('y[n]')\n",
        "plt.title('5*exp(-0.125*(n/3))*(u[n/3]-u[(n/3)-10]) plot')"
      ],
      "metadata": {
        "id": "VPKcFiid3NZN",
        "colab": {
          "base_uri": "https://localhost:8080/",
          "height": 312
        },
        "outputId": "97cfaa0a-aa56-47c6-96c5-d172382c3579"
      },
      "execution_count": null,
      "outputs": [
        {
          "output_type": "execute_result",
          "data": {
            "text/plain": [
              "Text(0.5, 1.0, '5*exp(-0.125*(n/3))*(u[n/3]-u[(n/3)-10]) plot')"
            ]
          },
          "metadata": {},
          "execution_count": 204
        },
        {
          "output_type": "display_data",
          "data": {
            "image/png": "[encoded data removed]",
            "text/plain": [
              "<Figure size 432x288 with 1 Axes>"
            ]
          },
          "metadata": {
            "needs_background": "light"
          }
        }
      ]
    },
    {
      "cell_type": "markdown",
      "source": [
        "3)ii) Discrete signals only have values at certain points in time, but continious has values at every point in time, so in a discrete signal when a time stretch occurs only those specific values will change and no additional values will be added to the signal."
      ],
      "metadata": {
        "id": "upbO0eGx3OKc"
      }
    },
    {
      "cell_type": "code",
      "source": [
        "x=np.arange(-10,70,1)\n",
        "unit1=ustep(0,x/3)\n",
        "unit2=ustep(10,x/3)\n",
        "z=exp(0.125,-x/3)\n",
        "z2=np.dot(5,z)\n",
        "\n",
        "y1=np.multiply(z2,unit1)\n",
        "y2=np.multiply(z2,unit2)\n",
        "y3=y1-y2\n",
        "\n",
        "plt.stem(x,y3)\n",
        "plt.xlabel('x')\n",
        "plt.xticks(np.arange(-10,70,5))\n",
        "plt.yticks([0,5])\n",
        "plt.ylabel('y[n]')\n",
        "plt.title('5*exp(-0.125*(n/3))*(u[n/3]-u[(n/3)-10]) plot')"
      ],
      "metadata": {
        "colab": {
          "base_uri": "https://localhost:8080/",
          "height": 367
        },
        "id": "tAT-P3ixKPwT",
        "outputId": "7a51291f-42a4-452b-a887-0f961516482b"
      },
      "execution_count": null,
      "outputs": [
        {
          "output_type": "stream",
          "name": "stderr",
          "text": [
            "/usr/local/lib/python3.7/dist-packages/ipykernel_launcher.py:11: UserWarning: In Matplotlib 3.3 individual lines on a stem plot will be added as a LineCollection instead of individual lines. This significantly improves the performance of a stem plot. To remove this warning and switch to the new behaviour, set the \"use_line_collection\" keyword argument to True.\n",
            "  # This is added back by InteractiveShellApp.init_path()\n"
          ]
        },
        {
          "output_type": "execute_result",
          "data": {
            "text/plain": [
              "Text(0.5, 1.0, '5*exp(-0.125*(n/3))*(u[n/3]-u[(n/3)-10]) plot')"
            ]
          },
          "metadata": {},
          "execution_count": 205
        },
        {
          "output_type": "display_data",
          "data": {
            "image/png": "[encoded data removed]",
            "text/plain": [
              "<Figure size 432x288 with 1 Axes>"
            ]
          },
          "metadata": {
            "needs_background": "light"
          }
        }
      ]
    },
    {
      "cell_type": "markdown",
      "source": [
        "#Part B: Recursive Solution Of Difference Equation\n",
        "\n"
      ],
      "metadata": {
        "id": "qj9dWg7lqk4A"
      }
    },
    {
      "cell_type": "markdown",
      "source": [
        "1)\n",
        "\n",
        "Interest = 5%\n",
        "\n",
        "Deposit = $10000\n",
        "\n",
        "\n",
        "\n",
        "x[n]=Deposit Amount, y[n]=Balance, r=Interest\n",
        "\n",
        "y[n]=x[n]+y[n-1]+r*y[n-1]\n",
        "\n",
        "y[n]=x[n]+(1+r)*y[n-1]\n",
        "\n",
        "y[n]=x[n]+1.05*y[n-1]"
      ],
      "metadata": {
        "id": "Myndfu0L4Fdn"
      }
    },
    {
      "cell_type": "markdown",
      "source": [
        "2)"
      ],
      "metadata": {
        "id": "uHC0wmSu5Uxx"
      }
    },
    {
      "cell_type": "code",
      "source": [
        "def rec(x):\n",
        "  if x==0:\n",
        "    return 10000\n",
        "  else:\n",
        "    return 1.05*rec(x-1)\n",
        "\n",
        "bal=[]\n",
        "for x in range(0,13):\n",
        "  bal.append(rec(x))\n",
        "\n",
        "n=np.arange(0,13,1)\n",
        "\n",
        "plt.stem(n,bal)\n",
        "plt.xlabel('n')\n",
        "plt.ylabel('y[n]')\n",
        "plt.title('Zero Input Response')\n"
      ],
      "metadata": {
        "id": "LTR7Vohw5WRH",
        "colab": {
          "base_uri": "https://localhost:8080/",
          "height": 367
        },
        "outputId": "8f1a1ddd-6f86-431e-891c-3326a79d704f"
      },
      "execution_count": null,
      "outputs": [
        {
          "output_type": "stream",
          "name": "stderr",
          "text": [
            "/usr/local/lib/python3.7/dist-packages/ipykernel_launcher.py:13: UserWarning: In Matplotlib 3.3 individual lines on a stem plot will be added as a LineCollection instead of individual lines. This significantly improves the performance of a stem plot. To remove this warning and switch to the new behaviour, set the \"use_line_collection\" keyword argument to True.\n",
            "  del sys.path[0]\n"
          ]
        },
        {
          "output_type": "execute_result",
          "data": {
            "text/plain": [
              "Text(0.5, 1.0, 'Zero Input Response')"
            ]
          },
          "metadata": {},
          "execution_count": 206
        },
        {
          "output_type": "display_data",
          "data": {
            "image/png": "[encoded data removed]",
            "text/plain": [
              "<Figure size 432x288 with 1 Axes>"
            ]
          },
          "metadata": {
            "needs_background": "light"
          }
        }
      ]
    },
    {
      "cell_type": "markdown",
      "source": [
        "3)"
      ],
      "metadata": {
        "id": "T1nuvkXmC9h1"
      }
    },
    {
      "cell_type": "code",
      "source": [
        "def rec(x):\n",
        "  if x==0:\n",
        "    return 10000\n",
        "  else:\n",
        "    return 1.05*rec(x-1)+100*x\n",
        "\n",
        "bal=[]\n",
        "for x in range(0,13):\n",
        "  bal.append(rec(x))\n",
        "\n",
        "n=np.arange(0,13,1)\n",
        "\n",
        "plt.stem(n,bal)\n",
        "plt.xlabel('n')\n",
        "plt.ylabel('y[n]')\n",
        "plt.title('Zero Input Response')"
      ],
      "metadata": {
        "colab": {
          "base_uri": "https://localhost:8080/",
          "height": 367
        },
        "id": "Cu4CRW3qC1HB",
        "outputId": "038466dd-7572-41e8-ee58-474914931087"
      },
      "execution_count": null,
      "outputs": [
        {
          "output_type": "stream",
          "name": "stderr",
          "text": [
            "/usr/local/lib/python3.7/dist-packages/ipykernel_launcher.py:13: UserWarning: In Matplotlib 3.3 individual lines on a stem plot will be added as a LineCollection instead of individual lines. This significantly improves the performance of a stem plot. To remove this warning and switch to the new behaviour, set the \"use_line_collection\" keyword argument to True.\n",
            "  del sys.path[0]\n"
          ]
        },
        {
          "output_type": "execute_result",
          "data": {
            "text/plain": [
              "Text(0.5, 1.0, 'Zero Input Response')"
            ]
          },
          "metadata": {},
          "execution_count": 207
        },
        {
          "output_type": "display_data",
          "data": {
            "image/png": "[encoded data removed]",
            "text/plain": [
              "<Figure size 432x288 with 1 Axes>"
            ]
          },
          "metadata": {
            "needs_background": "light"
          }
        }
      ]
    },
    {
      "cell_type": "markdown",
      "source": [
        "# Part C: Design a Filter\n"
      ],
      "metadata": {
        "id": "YFdhO2LZDTP5"
      }
    },
    {
      "cell_type": "markdown",
      "source": [
        "1)"
      ],
      "metadata": {
        "id": "AZy1iab6bvTV"
      }
    },
    {
      "cell_type": "code",
      "source": [
        "def filter(x,N):\n",
        "  x1=x\n",
        "  X=[]\n",
        "  for n in range (0,N):\n",
        "    X.append(x[n]) \n",
        "  max=np.amax(X) \n",
        "  for n in range (0,N):\n",
        "    x1[n]=max \n",
        "  return x1"
      ],
      "metadata": {
        "id": "eOKDnfNLE0-H"
      },
      "execution_count": null,
      "outputs": []
    },
    {
      "cell_type": "markdown",
      "source": [
        "2)"
      ],
      "metadata": {
        "id": "W24xqpsbctus"
      }
    },
    {
      "cell_type": "code",
      "source": [
        "n=np.arange(0,45,1)\n",
        "\n",
        "x=np.cos(0.1*np.pi*n)+impulse(9,n)-impulse(6,n)\n",
        "\n",
        "x2=filter(x,4)\n",
        "plt.figure()\n",
        "plt.stem(n,x2)\n",
        "plt.xlabel('n')\n",
        "plt.ylabel('x[n]')\n",
        "plt.title('Max Filter N=4')\n",
        "\n",
        "x2=filter(x,8)\n",
        "plt.figure()\n",
        "plt.stem(n,x2)\n",
        "plt.xlabel('n')\n",
        "plt.ylabel('x[n]')\n",
        "plt.title('Max Filter N=8')\n",
        "\n",
        "x2=filter(x,12)\n",
        "plt.figure()\n",
        "plt.stem(n,x2)\n",
        "plt.xlabel('n')\n",
        "plt.ylabel('x[n]')\n",
        "plt.title('Max Filter N=12')"
      ],
      "metadata": {
        "colab": {
          "base_uri": "https://localhost:8080/"
        },
        "id": "6oSkHZwicsbT",
        "outputId": "16178624-beef-4b6a-f16c-2c3e37641548"
      },
      "execution_count": null,
      "outputs": [
        {
          "output_type": "stream",
          "name": "stderr",
          "text": [
            "/usr/local/lib/python3.7/dist-packages/ipykernel_launcher.py:7: UserWarning: In Matplotlib 3.3 individual lines on a stem plot will be added as a LineCollection instead of individual lines. This significantly improves the performance of a stem plot. To remove this warning and switch to the new behaviour, set the \"use_line_collection\" keyword argument to True.\n",
            "  import sys\n",
            "/usr/local/lib/python3.7/dist-packages/ipykernel_launcher.py:14: UserWarning: In Matplotlib 3.3 individual lines on a stem plot will be added as a LineCollection instead of individual lines. This significantly improves the performance of a stem plot. To remove this warning and switch to the new behaviour, set the \"use_line_collection\" keyword argument to True.\n",
            "  \n",
            "/usr/local/lib/python3.7/dist-packages/ipykernel_launcher.py:21: UserWarning: In Matplotlib 3.3 individual lines on a stem plot will be added as a LineCollection instead of individual lines. This significantly improves the performance of a stem plot. To remove this warning and switch to the new behaviour, set the \"use_line_collection\" keyword argument to True.\n"
          ]
        },
        {
          "output_type": "execute_result",
          "data": {
            "text/plain": [
              "Text(0.5, 1.0, 'Max Filter N=12')"
            ]
          },
          "metadata": {},
          "execution_count": 209
        },
        {
          "output_type": "display_data",
          "data": {
            "image/png": "[encoded data removed]",
            "text/plain": [
              "<Figure size 432x288 with 1 Axes>"
            ]
          },
          "metadata": {
            "needs_background": "light"
          }
        },
        {
          "output_type": "display_data",
          "data": {
            "image/png": "[encoded data removed]",
            "text/plain": [
              "<Figure size 432x288 with 1 Axes>"
            ]
          },
          "metadata": {
            "needs_background": "light"
          }
        },
        {
          "output_type": "display_data",
          "data": {
            "image/png": "[encoded data removed]",
            "text/plain": [
              "<Figure size 432x288 with 1 Axes>"
            ]
          },
          "metadata": {
            "needs_background": "light"
          }
        }
      ]
    },
    {
      "cell_type": "markdown",
      "source": [
        "3) Filter takes N values in discrete signal, compares the values in the sample determines the max value within the set and sets the max value to the n values of the original signal. As shown above, the first graph has the first 4 values set to the highest value of those 4, the second graph has the first 8 values set to the highest value of those 8 etc.\n",
        "\n"
      ],
      "metadata": {
        "id": "6beyE7Gmd_LI"
      }
    },
    {
      "cell_type": "markdown",
      "source": [
        "#Part D: Energy and Power of Discrete Time Signals"
      ],
      "metadata": {
        "id": "hlpXnYZ1hgFB"
      }
    },
    {
      "cell_type": "markdown",
      "source": [
        "1)"
      ],
      "metadata": {
        "id": "IFcw2x4khsl2"
      }
    },
    {
      "cell_type": "code",
      "source": [
        "def nrg(x):\n",
        "  nrg=0\n",
        "  N=len(x)\n",
        "  for n in range(0,N):\n",
        "    nrg=nrg+(x[n]*x[n])\n",
        "  return nrg\n",
        "\n",
        "def pwr(x):\n",
        "  pwr=(1/(np.inf+1))*nrg(x)\n",
        "  return pwr"
      ],
      "metadata": {
        "id": "59iAsSOniOa0"
      },
      "execution_count": null,
      "outputs": []
    },
    {
      "cell_type": "markdown",
      "source": [
        "2)"
      ],
      "metadata": {
        "id": "GxNjo-a8jtxR"
      }
    },
    {
      "cell_type": "code",
      "source": [
        "y=[0,-9,-6, -3, 0, 3,6, 9, 0, 0]\n",
        "n=np.arange(-4,5,1)\n",
        "\n",
        "print(\"Energy: \", nrg(y))\n",
        "print(\"Power: \",pwr(y))"
      ],
      "metadata": {
        "colab": {
          "base_uri": "https://localhost:8080/"
        },
        "id": "9WPOKKLZjvbG",
        "outputId": "94249ef7-0a3f-42b4-9a93-7391e439f3ee"
      },
      "execution_count": null,
      "outputs": [
        {
          "output_type": "stream",
          "name": "stdout",
          "text": [
            "Energy:  252\n",
            "Power:  0.0\n"
          ]
        }
      ]
    }
  ]
}